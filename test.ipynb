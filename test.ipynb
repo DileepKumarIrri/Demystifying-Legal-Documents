{
 "cells": [
  {
   "cell_type": "code",
   "execution_count": 1,
   "id": "0076972b",
   "metadata": {},
   "outputs": [
    {
     "name": "stdout",
     "output_type": "stream",
     "text": [
      "Collecting Flask==2.3.3 (from -r requirements.txt (line 1))\n",
      "  Downloading flask-2.3.3-py3-none-any.whl.metadata (3.6 kB)\n",
      "Collecting werkzeug==2.3.7 (from -r requirements.txt (line 2))\n",
      "  Downloading werkzeug-2.3.7-py3-none-any.whl.metadata (4.1 kB)\n",
      "Requirement already satisfied: python-dotenv in /opt/anaconda3/envs/flip/lib/python3.10/site-packages (from -r requirements.txt (line 3)) (1.0.1)\n",
      "Requirement already satisfied: google-generativeai in /opt/anaconda3/envs/flip/lib/python3.10/site-packages (from -r requirements.txt (line 4)) (0.8.3)\n",
      "Collecting pypdf (from -r requirements.txt (line 5))\n",
      "  Downloading pypdf-6.1.0-py3-none-any.whl.metadata (7.1 kB)\n",
      "Collecting python-docx (from -r requirements.txt (line 6))\n",
      "  Downloading python_docx-1.2.0-py3-none-any.whl.metadata (2.0 kB)\n",
      "Requirement already satisfied: Jinja2>=3.1.2 in /opt/anaconda3/envs/flip/lib/python3.10/site-packages (from Flask==2.3.3->-r requirements.txt (line 1)) (3.1.4)\n",
      "Requirement already satisfied: itsdangerous>=2.1.2 in /opt/anaconda3/envs/flip/lib/python3.10/site-packages (from Flask==2.3.3->-r requirements.txt (line 1)) (2.2.0)\n",
      "Requirement already satisfied: click>=8.1.3 in /opt/anaconda3/envs/flip/lib/python3.10/site-packages (from Flask==2.3.3->-r requirements.txt (line 1)) (8.1.7)\n",
      "Requirement already satisfied: blinker>=1.6.2 in /opt/anaconda3/envs/flip/lib/python3.10/site-packages (from Flask==2.3.3->-r requirements.txt (line 1)) (1.9.0)\n",
      "Requirement already satisfied: MarkupSafe>=2.1.1 in /opt/anaconda3/envs/flip/lib/python3.10/site-packages (from werkzeug==2.3.7->-r requirements.txt (line 2)) (3.0.2)\n",
      "Requirement already satisfied: google-ai-generativelanguage==0.6.10 in /opt/anaconda3/envs/flip/lib/python3.10/site-packages (from google-generativeai->-r requirements.txt (line 4)) (0.6.10)\n",
      "Requirement already satisfied: google-api-core in /opt/anaconda3/envs/flip/lib/python3.10/site-packages (from google-generativeai->-r requirements.txt (line 4)) (2.23.0)\n",
      "Requirement already satisfied: google-api-python-client in /opt/anaconda3/envs/flip/lib/python3.10/site-packages (from google-generativeai->-r requirements.txt (line 4)) (2.154.0)\n",
      "Requirement already satisfied: google-auth>=2.15.0 in /opt/anaconda3/envs/flip/lib/python3.10/site-packages (from google-generativeai->-r requirements.txt (line 4)) (2.36.0)\n",
      "Requirement already satisfied: protobuf in /opt/anaconda3/envs/flip/lib/python3.10/site-packages (from google-generativeai->-r requirements.txt (line 4)) (5.29.1)\n",
      "Requirement already satisfied: pydantic in /opt/anaconda3/envs/flip/lib/python3.10/site-packages (from google-generativeai->-r requirements.txt (line 4)) (2.10.3)\n",
      "Requirement already satisfied: tqdm in /opt/anaconda3/envs/flip/lib/python3.10/site-packages (from google-generativeai->-r requirements.txt (line 4)) (4.67.1)\n",
      "Requirement already satisfied: typing-extensions in /opt/anaconda3/envs/flip/lib/python3.10/site-packages (from google-generativeai->-r requirements.txt (line 4)) (4.12.2)\n",
      "Requirement already satisfied: proto-plus<2.0.0dev,>=1.22.3 in /opt/anaconda3/envs/flip/lib/python3.10/site-packages (from google-ai-generativelanguage==0.6.10->google-generativeai->-r requirements.txt (line 4)) (1.25.0)\n",
      "Requirement already satisfied: googleapis-common-protos<2.0.dev0,>=1.56.2 in /opt/anaconda3/envs/flip/lib/python3.10/site-packages (from google-api-core->google-generativeai->-r requirements.txt (line 4)) (1.66.0)\n",
      "Requirement already satisfied: requests<3.0.0.dev0,>=2.18.0 in /opt/anaconda3/envs/flip/lib/python3.10/site-packages (from google-api-core->google-generativeai->-r requirements.txt (line 4)) (2.32.3)\n",
      "Requirement already satisfied: grpcio<2.0dev,>=1.33.2 in /opt/anaconda3/envs/flip/lib/python3.10/site-packages (from google-api-core[grpc]!=2.0.*,!=2.1.*,!=2.10.*,!=2.2.*,!=2.3.*,!=2.4.*,!=2.5.*,!=2.6.*,!=2.7.*,!=2.8.*,!=2.9.*,<3.0.0dev,>=1.34.1->google-ai-generativelanguage==0.6.10->google-generativeai->-r requirements.txt (line 4)) (1.68.1)\n",
      "Requirement already satisfied: grpcio-status<2.0.dev0,>=1.33.2 in /opt/anaconda3/envs/flip/lib/python3.10/site-packages (from google-api-core[grpc]!=2.0.*,!=2.1.*,!=2.10.*,!=2.2.*,!=2.3.*,!=2.4.*,!=2.5.*,!=2.6.*,!=2.7.*,!=2.8.*,!=2.9.*,<3.0.0dev,>=1.34.1->google-ai-generativelanguage==0.6.10->google-generativeai->-r requirements.txt (line 4)) (1.68.1)\n",
      "Requirement already satisfied: cachetools<6.0,>=2.0.0 in /opt/anaconda3/envs/flip/lib/python3.10/site-packages (from google-auth>=2.15.0->google-generativeai->-r requirements.txt (line 4)) (5.5.0)\n",
      "Requirement already satisfied: pyasn1-modules>=0.2.1 in /opt/anaconda3/envs/flip/lib/python3.10/site-packages (from google-auth>=2.15.0->google-generativeai->-r requirements.txt (line 4)) (0.4.1)\n",
      "Requirement already satisfied: rsa<5,>=3.1.4 in /opt/anaconda3/envs/flip/lib/python3.10/site-packages (from google-auth>=2.15.0->google-generativeai->-r requirements.txt (line 4)) (4.9)\n",
      "Requirement already satisfied: charset-normalizer<4,>=2 in /opt/anaconda3/envs/flip/lib/python3.10/site-packages (from requests<3.0.0.dev0,>=2.18.0->google-api-core->google-generativeai->-r requirements.txt (line 4)) (3.4.0)\n",
      "Requirement already satisfied: idna<4,>=2.5 in /opt/anaconda3/envs/flip/lib/python3.10/site-packages (from requests<3.0.0.dev0,>=2.18.0->google-api-core->google-generativeai->-r requirements.txt (line 4)) (3.10)\n",
      "Requirement already satisfied: urllib3<3,>=1.21.1 in /opt/anaconda3/envs/flip/lib/python3.10/site-packages (from requests<3.0.0.dev0,>=2.18.0->google-api-core->google-generativeai->-r requirements.txt (line 4)) (2.2.3)\n",
      "Requirement already satisfied: certifi>=2017.4.17 in /opt/anaconda3/envs/flip/lib/python3.10/site-packages (from requests<3.0.0.dev0,>=2.18.0->google-api-core->google-generativeai->-r requirements.txt (line 4)) (2024.8.30)\n",
      "Requirement already satisfied: pyasn1>=0.1.3 in /opt/anaconda3/envs/flip/lib/python3.10/site-packages (from rsa<5,>=3.1.4->google-auth>=2.15.0->google-generativeai->-r requirements.txt (line 4)) (0.6.1)\n",
      "Collecting lxml>=3.1.0 (from python-docx->-r requirements.txt (line 6))\n",
      "  Downloading lxml-6.0.1-cp310-cp310-macosx_10_9_universal2.whl.metadata (3.8 kB)\n",
      "Requirement already satisfied: httplib2<1.dev0,>=0.19.0 in /opt/anaconda3/envs/flip/lib/python3.10/site-packages (from google-api-python-client->google-generativeai->-r requirements.txt (line 4)) (0.22.0)\n",
      "Requirement already satisfied: google-auth-httplib2<1.0.0,>=0.2.0 in /opt/anaconda3/envs/flip/lib/python3.10/site-packages (from google-api-python-client->google-generativeai->-r requirements.txt (line 4)) (0.2.0)\n",
      "Requirement already satisfied: uritemplate<5,>=3.0.1 in /opt/anaconda3/envs/flip/lib/python3.10/site-packages (from google-api-python-client->google-generativeai->-r requirements.txt (line 4)) (4.1.1)\n",
      "Requirement already satisfied: pyparsing!=3.0.0,!=3.0.1,!=3.0.2,!=3.0.3,<4,>=2.4.2 in /opt/anaconda3/envs/flip/lib/python3.10/site-packages (from httplib2<1.dev0,>=0.19.0->google-api-python-client->google-generativeai->-r requirements.txt (line 4)) (3.2.0)\n",
      "Requirement already satisfied: annotated-types>=0.6.0 in /opt/anaconda3/envs/flip/lib/python3.10/site-packages (from pydantic->google-generativeai->-r requirements.txt (line 4)) (0.7.0)\n",
      "Requirement already satisfied: pydantic-core==2.27.1 in /opt/anaconda3/envs/flip/lib/python3.10/site-packages (from pydantic->google-generativeai->-r requirements.txt (line 4)) (2.27.1)\n",
      "Downloading flask-2.3.3-py3-none-any.whl (96 kB)\n",
      "Downloading werkzeug-2.3.7-py3-none-any.whl (242 kB)\n",
      "Downloading pypdf-6.1.0-py3-none-any.whl (322 kB)\n",
      "Downloading python_docx-1.2.0-py3-none-any.whl (252 kB)\n",
      "Downloading lxml-6.0.1-cp310-cp310-macosx_10_9_universal2.whl (8.4 MB)\n",
      "\u001b[2K   \u001b[90m━━━━━━━━━━━━━━━━━━━━━━━━━━━━━━━━━━━━━━━━\u001b[0m \u001b[32m8.4/8.4 MB\u001b[0m \u001b[31m6.7 MB/s\u001b[0m eta \u001b[36m0:00:00\u001b[0ma \u001b[36m0:00:01\u001b[0mm\n",
      "\u001b[?25hInstalling collected packages: werkzeug, pypdf, lxml, python-docx, Flask\n",
      "\u001b[2K  Attempting uninstall: werkzeug\n",
      "\u001b[2K    Found existing installation: Werkzeug 3.1.3\n",
      "\u001b[2K    Uninstalling Werkzeug-3.1.3:\n",
      "\u001b[2K      Successfully uninstalled Werkzeug-3.1.3\n",
      "\u001b[2K  Attempting uninstall: Flask━━━\u001b[0m\u001b[90m╺\u001b[0m\u001b[90m━━━━━━━━━━━━━━━\u001b[0m \u001b[32m3/5\u001b[0m [python-docx]\n",
      "\u001b[2K    Found existing installation: Flask 3.1.090m━━━━━━━━━━━━━━━\u001b[0m \u001b[32m3/5\u001b[0m [python-docx]\n",
      "\u001b[2K    Uninstalling Flask-3.1.0:[0m\u001b[90m╺\u001b[0m\u001b[90m━━━━━━━━━━━━━━━\u001b[0m \u001b[32m3/5\u001b[0m [python-docx]\n",
      "\u001b[2K      Successfully uninstalled Flask-3.1.0\u001b[90m━━━━━━━━━━━━━━━\u001b[0m \u001b[32m3/5\u001b[0m [python-docx]\n",
      "\u001b[2K   \u001b[90m━━━━━━━━━━━━━━━━━━━━━━━━━━━━━━━━━━━━━━━━\u001b[0m \u001b[32m5/5\u001b[0m [Flask]/5\u001b[0m [python-docx]\n",
      "\u001b[1A\u001b[2KSuccessfully installed Flask-2.3.3 lxml-6.0.1 pypdf-6.1.0 python-docx-1.2.0 werkzeug-2.3.7\n",
      "Note: you may need to restart the kernel to use updated packages.\n"
     ]
    }
   ],
   "source": [
    "pip install -r requirements.txt"
   ]
  },
  {
   "cell_type": "code",
   "execution_count": 2,
   "id": "4d1878ab",
   "metadata": {},
   "outputs": [
    {
     "name": "stderr",
     "output_type": "stream",
     "text": [
      "/opt/anaconda3/envs/flip/lib/python3.10/site-packages/tqdm/auto.py:21: TqdmWarning: IProgress not found. Please update jupyter and ipywidgets. See https://ipywidgets.readthedocs.io/en/stable/user_install.html\n",
      "  from .autonotebook import tqdm as notebook_tqdm\n"
     ]
    },
    {
     "ename": "NameError",
     "evalue": "name 'app' is not defined",
     "output_type": "error",
     "traceback": [
      "\u001b[0;31m---------------------------------------------------------------------------\u001b[0m",
      "\u001b[0;31mNameError\u001b[0m                                 Traceback (most recent call last)",
      "Cell \u001b[0;32mIn[2], line 2\u001b[0m\n\u001b[1;32m      1\u001b[0m \u001b[38;5;28;01mimport\u001b[39;00m\u001b[38;5;250m \u001b[39m\u001b[38;5;21;01mgoogle\u001b[39;00m\u001b[38;5;21;01m.\u001b[39;00m\u001b[38;5;21;01mgenerativeai\u001b[39;00m\u001b[38;5;250m \u001b[39m\u001b[38;5;28;01mas\u001b[39;00m\u001b[38;5;250m \u001b[39m\u001b[38;5;21;01mgenai\u001b[39;00m\n\u001b[0;32m----> 2\u001b[0m genai\u001b[38;5;241m.\u001b[39mconfigure(api_key\u001b[38;5;241m=\u001b[39m\u001b[43mapp\u001b[49m\u001b[38;5;241m.\u001b[39mconfig[\u001b[38;5;124m'\u001b[39m\u001b[38;5;124mGOOGLE_API_KEY\u001b[39m\u001b[38;5;124m'\u001b[39m])\n\u001b[1;32m      3\u001b[0m \u001b[38;5;28;01mfor\u001b[39;00m m \u001b[38;5;129;01min\u001b[39;00m genai\u001b[38;5;241m.\u001b[39mlist_models():\n\u001b[1;32m      4\u001b[0m     \u001b[38;5;28mprint\u001b[39m(m\u001b[38;5;241m.\u001b[39mname, m\u001b[38;5;241m.\u001b[39msupported_generation_methods)\n",
      "\u001b[0;31mNameError\u001b[0m: name 'app' is not defined"
     ]
    }
   ],
   "source": [
    "import google.generativeai as genai\n",
    "genai.configure(api_key=app.config['GOOGLE_API_KEY'])\n",
    "for m in genai.list_models():\n",
    "    print(m.name, m.supported_generation_methods)"
   ]
  },
  {
   "cell_type": "code",
   "execution_count": null,
   "id": "d13848b0",
   "metadata": {},
   "outputs": [],
   "source": []
  }
 ],
 "metadata": {
  "kernelspec": {
   "display_name": "flip",
   "language": "python",
   "name": "python3"
  },
  "language_info": {
   "codemirror_mode": {
    "name": "ipython",
    "version": 3
   },
   "file_extension": ".py",
   "mimetype": "text/x-python",
   "name": "python",
   "nbconvert_exporter": "python",
   "pygments_lexer": "ipython3",
   "version": "3.10.16"
  }
 },
 "nbformat": 4,
 "nbformat_minor": 5
}
